{
 "cells": [
  {
   "cell_type": "markdown",
   "metadata": {
    "id": "qGZSvi8mVGjR"
   },
   "source": [
    "# 학습목표\n",
    "\n",
    "- Flask 사용법 학습하기\n",
    "- Flask를 이용한 웹서버 구축하기\n",
    "- Flask를 이용한 DB연동 웹페이지 구축하기"
   ]
  },
  {
   "cell_type": "markdown",
   "metadata": {
    "id": "uWQPs2ulVGjR"
   },
   "source": [
    "# Flask 설치 및 서버 실행하기\n",
    "\n",
    "- 플라스크(Flask)는 파이썬으로 작성된 마이크로 웹 프레임워크의 하나\n",
    "  - 특별한 도구나 라이브러리가 필요 없음\n",
    "  \n",
    "##  flask 설치하기"
   ]
  },
  {
   "cell_type": "code",
   "execution_count": 1,
   "metadata": {
    "id": "5iUjaxRzVGjS",
    "scrolled": true
   },
   "outputs": [
    {
     "name": "stdout",
     "output_type": "stream",
     "text": [
      "Requirement already satisfied: flask in c:\\users\\smhrd\\appdata\\local\\anaconda3\\lib\\site-packages (2.2.2)\n",
      "Requirement already satisfied: Werkzeug>=2.2.2 in c:\\users\\smhrd\\appdata\\local\\anaconda3\\lib\\site-packages (from flask) (2.2.3)\n",
      "Requirement already satisfied: Jinja2>=3.0 in c:\\users\\smhrd\\appdata\\local\\anaconda3\\lib\\site-packages (from flask) (3.1.2)\n",
      "Requirement already satisfied: itsdangerous>=2.0 in c:\\users\\smhrd\\appdata\\local\\anaconda3\\lib\\site-packages (from flask) (2.0.1)\n",
      "Requirement already satisfied: click>=8.0 in c:\\users\\smhrd\\appdata\\local\\anaconda3\\lib\\site-packages (from flask) (8.0.4)\n",
      "Requirement already satisfied: colorama in c:\\users\\smhrd\\appdata\\local\\anaconda3\\lib\\site-packages (from click>=8.0->flask) (0.4.6)\n",
      "Requirement already satisfied: MarkupSafe>=2.0 in c:\\users\\smhrd\\appdata\\local\\anaconda3\\lib\\site-packages (from Jinja2>=3.0->flask) (2.1.1)\n"
     ]
    }
   ],
   "source": [
    "# Flask 설치\n",
    "!pip install flask"
   ]
  },
  {
   "cell_type": "markdown",
   "metadata": {
    "id": "TpigevhCVGjT"
   },
   "source": [
    "## flask 서버 실행하기\n",
    "\n",
    "- <font color=red>app = Flask(\\_\\_name\\_\\_)</font> : Flask 객체를 app 변수에 할당\n",
    "- <font color=red>@app.route(\"/\")</font> : Flask에게 어떤 URL이 해당 함수를 실행하는지 알려줌\n",
    "- <font color=red>app.run(host='127.0.0.1', port=5000)</font>\n",
    "  - 서버 IP, 포트 등을 설정하고 서버를 실행\n",
    "  - 브라우저에서 IP와 포트로 서버 접속\n",
    "   \n",
    "<img src=\"https://arome1004.cafe24.com/images/python_db/lecture_image/003_flask01.png\" width=50%>"
   ]
  },
  {
   "cell_type": "code",
   "execution_count": 12,
   "metadata": {
    "colab": {
     "base_uri": "https://localhost:8080/",
     "height": 167
    },
    "executionInfo": {
     "elapsed": 8710,
     "status": "ok",
     "timestamp": 1694706916308,
     "user": {
      "displayName": "강성관",
      "userId": "00571094306841577419"
     },
     "user_tz": -540
    },
    "id": "ejvWeb9wVGjT",
    "outputId": "9ec3a2c6-4475-475a-d395-04355c26d0de",
    "scrolled": true
   },
   "outputs": [
    {
     "name": "stdout",
     "output_type": "stream",
     "text": [
      " * Serving Flask app '__main__'\n",
      " * Debug mode: off\n"
     ]
    },
    {
     "name": "stderr",
     "output_type": "stream",
     "text": [
      "WARNING: This is a development server. Do not use it in a production deployment. Use a production WSGI server instead.\n",
      " * Running on http://211.48.228.19:9000\n",
      "Press CTRL+C to quit\n"
     ]
    }
   ],
   "source": [
    "from flask import Flask\n",
    "\n",
    "# 초기화\n",
    "app = Flask(__name__)\n",
    "\n",
    "# 웹 서버의 root 경로\n",
    "@app.route(\"/\")\n",
    "def hello():\n",
    "    return \"Hello World !! - bang\"\n",
    "\n",
    "# 서버 실행\n",
    "if __name__ == \"__main__\" :\n",
    "    app.run(\"211.48.228.19\", port =\"9000\")"
   ]
  },
  {
   "cell_type": "markdown",
   "metadata": {
    "id": "VylPRvR4VGjU"
   },
   "source": [
    "## URL를 함수로 연결하기\n",
    "\n",
    "- <font color=red>@app.route(\"/hello\")</font>\n",
    "  - URL에  함수명을 설정\n",
    "  - 브라우저에서 IP와 포트로 서버 접속하고 URL로 함수명을 넘김\n",
    "  \n",
    "<img src=\"https://arome1004.cafe24.com/images/python_db/lecture_image/003_flask02.png\" width=50%>"
   ]
  },
  {
   "cell_type": "code",
   "execution_count": 13,
   "metadata": {
    "colab": {
     "base_uri": "https://localhost:8080/",
     "height": 185
    },
    "executionInfo": {
     "elapsed": 29112,
     "status": "ok",
     "timestamp": 1694707191248,
     "user": {
      "displayName": "강성관",
      "userId": "00571094306841577419"
     },
     "user_tz": -540
    },
    "id": "e_f1F8ArVGjU",
    "outputId": "f51315e8-331e-4e3f-b4ef-e88e41acef08",
    "scrolled": false
   },
   "outputs": [
    {
     "name": "stdout",
     "output_type": "stream",
     "text": [
      " * Serving Flask app '__main__'\n",
      " * Debug mode: off\n"
     ]
    },
    {
     "name": "stderr",
     "output_type": "stream",
     "text": [
      "WARNING: This is a development server. Do not use it in a production deployment. Use a production WSGI server instead.\n",
      " * Running on http://211.48.228.19:9001\n",
      "Press CTRL+C to quit\n"
     ]
    }
   ],
   "source": [
    "from flask import Flask\n",
    "\n",
    "app = Flask(__name__)\n",
    "\n",
    "@app.route(\"/\")\n",
    "def index() : \n",
    "    return \"안녕하세요 !! - bang\"\n",
    "\n",
    "@app.route(\"/menu1\")\n",
    "def menu1() : \n",
    "    return \"bang 홈 메뉴1 화면입니다.\"\n",
    "\n",
    "if __name__ == '__main__':\n",
    "    app.run(host='211.48.228.19', port=9001)"
   ]
  },
  {
   "cell_type": "code",
   "execution_count": 18,
   "metadata": {
    "scrolled": false
   },
   "outputs": [
    {
     "name": "stdout",
     "output_type": "stream",
     "text": [
      " * Serving Flask app '__main__'\n",
      " * Debug mode: off\n"
     ]
    },
    {
     "name": "stderr",
     "output_type": "stream",
     "text": [
      "WARNING: This is a development server. Do not use it in a production deployment. Use a production WSGI server instead.\n",
      " * Running on http://211.48.228.19:9002\n",
      "Press CTRL+C to quit\n",
      "211.48.228.19 - - [03/Nov/2023 14:46:48] \"GET / HTTP/1.1\" 200 -\n",
      "211.48.228.19 - - [03/Nov/2023 14:47:04] \"GET /login HTTP/1.1\" 404 -\n",
      "211.48.228.19 - - [03/Nov/2023 14:47:13] \"GET /login/id HTTP/1.1\" 200 -\n",
      "211.48.228.19 - - [03/Nov/2023 14:47:20] \"GET /login/bang HTTP/1.1\" 200 -\n",
      "211.48.228.19 - - [03/Nov/2023 14:50:12] \"GET / HTTP/1.1\" 200 -\n"
     ]
    }
   ],
   "source": [
    "from flask import Flask\n",
    "\n",
    "app = Flask(__name__)\n",
    "\n",
    "@app.route(\"/\")\n",
    "def index():\n",
    "    return \"bangs home\"\n",
    "\n",
    "@app.route(\"/login/<id>\")\n",
    "def login(id) :\n",
    "    return f\"bangs home (아이디 : {id})\"\n",
    "\n",
    "if __name__ == ('__main__'):\n",
    "    app.run(host=\"211.48.228.19\", port = 9002)"
   ]
  },
  {
   "cell_type": "code",
   "execution_count": 20,
   "metadata": {},
   "outputs": [
    {
     "name": "stdout",
     "output_type": "stream",
     "text": [
      " * Serving Flask app '__main__'\n",
      " * Debug mode: off\n"
     ]
    },
    {
     "name": "stderr",
     "output_type": "stream",
     "text": [
      "WARNING: This is a development server. Do not use it in a production deployment. Use a production WSGI server instead.\n",
      " * Running on http://211.48.228.19:9003\n",
      "Press CTRL+C to quit\n",
      "211.48.228.19 - - [03/Nov/2023 14:57:13] \"GET / HTTP/1.1\" 200 -\n",
      "211.48.228.19 - - [03/Nov/2023 14:57:22] \"GET /login/bang%20123 HTTP/1.1\" 200 -\n"
     ]
    }
   ],
   "source": [
    "from flask import Flask\n",
    "\n",
    "app = Flask(__name__)\n",
    "\n",
    "@app.route(\"/\")\n",
    "def index():\n",
    "    return \"bangs home\"\n",
    "\n",
    "@app.route(\"/login/<id> <pw>\")\n",
    "def login(id, pw) :\n",
    "    return f\"bangs home (아이디 : {id}, 패스워드 : {pw})\"\n",
    "\n",
    "if __name__ == ('__main__'):\n",
    "    app.run(host=\"211.48.228.19\", port = 9003)"
   ]
  },
  {
   "cell_type": "markdown",
   "metadata": {
    "id": "LmHY9M3zVGjU"
   },
   "source": [
    "### URL을 변수로 사용하기\n",
    "\n",
    "- @app.route(\"/hello/<value>\")\n",
    "  - URL에  value 값을 설정\n",
    "  - 브라우저에서 IP와 포트로 서버 접속하고 URL로 100을 넘김\n",
    "    \n",
    "<img src=\"https://arome1004.cafe24.com/images/python_db/lecture_image/003_flask03.png\" width=50%>  "
   ]
  },
  {
   "cell_type": "code",
   "execution_count": null,
   "metadata": {
    "colab": {
     "base_uri": "https://localhost:8080/",
     "height": 185
    },
    "executionInfo": {
     "elapsed": 17671,
     "status": "ok",
     "timestamp": 1694707227934,
     "user": {
      "displayName": "강성관",
      "userId": "00571094306841577419"
     },
     "user_tz": -540
    },
    "id": "nkOP6yimVGjU",
    "outputId": "5ac337dc-b22d-44fb-e3cc-aae28e43dd48",
    "scrolled": true
   },
   "outputs": [
    {
     "name": "stdout",
     "output_type": "stream",
     "text": [
      " * Serving Flask app '__main__'\n",
      " * Debug mode: off\n"
     ]
    },
    {
     "name": "stderr",
     "output_type": "stream",
     "text": [
      "WARNING: This is a development server. Do not use it in a production deployment. Use a production WSGI server instead.\n",
      " * Running on http://127.0.0.1:5002\n",
      "Press CTRL+C to quit\n",
      "127.0.0.1 - - [29/Oct/2023 21:25:54] \"GET / HTTP/1.1\" 404 -\n",
      "127.0.0.1 - - [29/Oct/2023 21:25:54] \"GET /favicon.ico HTTP/1.1\" 404 -\n",
      "127.0.0.1 - - [29/Oct/2023 21:26:00] \"GET /hello/100 HTTP/1.1\" 200 -\n"
     ]
    }
   ],
   "source": [
    "#실습"
   ]
  },
  {
   "cell_type": "markdown",
   "metadata": {
    "id": "hOfNZpGTw8Yv"
   },
   "source": [
    "- 2개 이상의 변수 사용하기\n",
    "\n",
    "<img src=\"https://arome1004.cafe24.com/images/python_db/lecture_image/003_flask03_2.png\" width=50%>"
   ]
  },
  {
   "cell_type": "code",
   "execution_count": null,
   "metadata": {
    "colab": {
     "base_uri": "https://localhost:8080/",
     "height": 185
    },
    "executionInfo": {
     "elapsed": 20984,
     "status": "ok",
     "timestamp": 1694707264552,
     "user": {
      "displayName": "강성관",
      "userId": "00571094306841577419"
     },
     "user_tz": -540
    },
    "id": "ZSM95KCNVGjU",
    "outputId": "682ab925-0a32-4479-948b-84c04d5223cd"
   },
   "outputs": [
    {
     "name": "stdout",
     "output_type": "stream",
     "text": [
      " * Serving Flask app '__main__'\n",
      " * Debug mode: off\n"
     ]
    },
    {
     "name": "stderr",
     "output_type": "stream",
     "text": [
      "WARNING: This is a development server. Do not use it in a production deployment. Use a production WSGI server instead.\n",
      " * Running on http://127.0.0.1:5003\n",
      "Press CTRL+C to quit\n",
      "127.0.0.1 - - [29/Oct/2023 21:27:04] \"GET / HTTP/1.1\" 404 -\n",
      "127.0.0.1 - - [29/Oct/2023 21:27:04] \"GET /favicon.ico HTTP/1.1\" 404 -\n",
      "127.0.0.1 - - [29/Oct/2023 21:27:12] \"GET /hello%20100%20200 HTTP/1.1\" 404 -\n",
      "127.0.0.1 - - [29/Oct/2023 21:27:40] \"GET /hello/100%20200 HTTP/1.1\" 200 -\n"
     ]
    }
   ],
   "source": [
    "#실습"
   ]
  },
  {
   "cell_type": "markdown",
   "metadata": {
    "id": "Ww2JKT6bVGjV"
   },
   "source": [
    "### html 문서를 반환하기\n",
    "\n",
    "- <font color=red>render_template(\"hello.html\")</font>\n",
    "  - hello.html 문서를 반환\n",
    "\n",
    "- hello.html 파일을 작성하고 templates 폴더를 생성하고 저장\n",
    "- 브라우저에서 IP와 포트로 서버 접속\n",
    "\n",
    "  <img src=\"https://arome1004.cafe24.com/images/opencv/lecture_image/04_flask04.png\" width=50%>  "
   ]
  },
  {
   "cell_type": "code",
   "execution_count": 40,
   "metadata": {
    "id": "YzAKnrqgbiKY"
   },
   "outputs": [],
   "source": [
    "import os\n",
    "\n",
    "temp_dir=\"./templates\"\n",
    "\n",
    "# 해당 폴더가 없을 때\n",
    "if not os.path.exists(temp_dir) :\n",
    "    os.mkdir(temp_dir)"
   ]
  },
  {
   "cell_type": "code",
   "execution_count": 48,
   "metadata": {
    "colab": {
     "base_uri": "https://localhost:8080/"
    },
    "executionInfo": {
     "elapsed": 1122,
     "status": "ok",
     "timestamp": 1694707589557,
     "user": {
      "displayName": "강성관",
      "userId": "00571094306841577419"
     },
     "user_tz": -540
    },
    "id": "q5BGUN28VGjV",
    "outputId": "e206a935-07b5-4f36-b884-649460f282cb"
   },
   "outputs": [
    {
     "name": "stdout",
     "output_type": "stream",
     "text": [
      "Overwriting ./templates/hello.html\n"
     ]
    }
   ],
   "source": [
    "%%writefile ./templates/hello.html\n",
    "<html>\n",
    "<body>\n",
    "<h1> Bang's Home </h1>\n",
    "</body>\n",
    "</html>"
   ]
  },
  {
   "cell_type": "code",
   "execution_count": 58,
   "metadata": {
    "colab": {
     "base_uri": "https://localhost:8080/",
     "height": 167
    },
    "executionInfo": {
     "elapsed": 7487,
     "status": "ok",
     "timestamp": 1694707649776,
     "user": {
      "displayName": "강성관",
      "userId": "00571094306841577419"
     },
     "user_tz": -540
    },
    "id": "Us9DSVbIVGjV",
    "outputId": "3b39a832-f441-427e-c1a0-6822eb9f390d"
   },
   "outputs": [
    {
     "name": "stdout",
     "output_type": "stream",
     "text": [
      " * Serving Flask app '__main__'\n",
      " * Debug mode: off\n"
     ]
    },
    {
     "name": "stderr",
     "output_type": "stream",
     "text": [
      "WARNING: This is a development server. Do not use it in a production deployment. Use a production WSGI server instead.\n",
      " * Running on http://211.48.228.19:9004\n",
      "Press CTRL+C to quit\n"
     ]
    }
   ],
   "source": [
    "from flask import Flask, render_template\n",
    "app = Flask(__name__)\n",
    "\n",
    "@app.route(\"/\")\n",
    "def index() :\n",
    "    return render_template(\"hello.html\")\n",
    "\n",
    "if __name__ ==\"__main__\" :\n",
    "    app.run(host=\"211.48.228.19\", port=9004)"
   ]
  },
  {
   "cell_type": "code",
   "execution_count": 86,
   "metadata": {},
   "outputs": [
    {
     "name": "stdout",
     "output_type": "stream",
     "text": [
      "Overwriting ./templates/test.html\n"
     ]
    }
   ],
   "source": [
    "%%writefile ./templates/test.html\n",
    "<html lang=\"en\">\n",
    "\n",
    "<head>\n",
    "    <meta charset=\"UTF-8\">\n",
    "    <meta name=\"viewport\" content=\"width=device-width, initial-scale=1.0\">\n",
    "    <title>flex practice</title>\n",
    "    <style>\n",
    "        .background {display: flex;\n",
    "            flex-wrap: wrap;\n",
    "            justify-content: space-evenly;}\n",
    "        .area {display: flex;\n",
    "            flex-direction: column;\n",
    "            align-items: center;\n",
    "            background-color: yellowgreen;\n",
    "            margin-bottom: 25px;\n",
    "            border-radius: 25px;}\n",
    "\n",
    "        .imgsec {width: 300px;\n",
    "            height: 300px;\n",
    "            background-size: cover;\n",
    "            background-position: center;}\n",
    "\n",
    "        .textsec {font-size: 1.5rem;\n",
    "            font-weight: bold;}\n",
    "\n",
    "        .img1 {background-image: url(https://encrypted-tbn0.gstatic.com/images?q=tbn:ANd9GcTyIru6tQLhwY8EU6OV9IemXdE6EXSEZYrc0A&usqp=CAU);}\n",
    "\n",
    "        .img2 {background-image: url(https://encrypted-tbn0.gstatic.com/images?q=tbn:ANd9GcQ8GbROuMIquusmydSr2tA7yE6LZgU6BD4TNQ&usqp=CAU);}\n",
    "\n",
    "        .img3 {background-image: url(https://encrypted-tbn0.gstatic.com/images?q=tbn:ANd9GcTaoHMou499r1dnzlzGBoxbeJXWqxDo4WsNKg&usqp=CAU);}\n",
    "\n",
    "    </style>\n",
    "\n",
    "</head>\n",
    "\n",
    "<body>\n",
    "    <div class=\"background\">\n",
    "        <div class=\"area\">\n",
    "            <div class=\"imgsec img1\"></div>\n",
    "            <p class=\"textsec\">뭐라구요?</p>\n",
    "\n",
    "        </div>\n",
    "        <div class=\"area\">\n",
    "            <div class=\"imgsec img2\"></div>\n",
    "            <p class=\"textsec\">굿 모닝~</p>\n",
    "\n",
    "        </div>\n",
    "        <div class=\"area\">\n",
    "            <div class=\"imgsec img3\"></div>\n",
    "            <p class=\"textsec\">1+1=?</p>\n",
    "        </div> \n",
    "        \n",
    "        <img src=\"{{url_for('templates', filename='./KakaoTalk_20231103_153047202.jpg')}}\" width=\"50%\">\n",
    "\n",
    "        \n",
    "    </div>\n",
    "\n",
    "</body>\n",
    "\n",
    "</html>"
   ]
  },
  {
   "cell_type": "code",
   "execution_count": 73,
   "metadata": {},
   "outputs": [
    {
     "name": "stdout",
     "output_type": "stream",
     "text": [
      " * Serving Flask app '__main__'\n",
      " * Debug mode: off\n"
     ]
    },
    {
     "name": "stderr",
     "output_type": "stream",
     "text": [
      "WARNING: This is a development server. Do not use it in a production deployment. Use a production WSGI server instead.\n",
      " * Running on http://211.48.228.19:9004\n",
      "Press CTRL+C to quit\n"
     ]
    }
   ],
   "source": [
    "from flask import Flask, render_template\n",
    "app = Flask(__name__)\n",
    "\n",
    "@app.route(\"/\")\n",
    "def index() :\n",
    "    return render_template(\"hello.html\")\n",
    "\n",
    "@app.route(\"/test\")\n",
    "def test() :\n",
    "    return render_template(\"test.html\")\n",
    "\n",
    "if __name__ ==\"__main__\" :\n",
    "    app.run(host=\"211.48.228.19\", port=9004)"
   ]
  },
  {
   "cell_type": "markdown",
   "metadata": {
    "id": "j7olaJSmVGjV"
   },
   "source": [
    "### 이미지가 포함된 문서 반환하기\n",
    "\n",
    "- static 폴더 : 자원을 담아 놓는 폴더\n",
    "- static 폴더에 이미지 폴더를 만들고 출력할 이미지를 저장"
   ]
  },
  {
   "cell_type": "code",
   "execution_count": 136,
   "metadata": {
    "id": "H8PHjq_7cemt"
   },
   "outputs": [],
   "source": [
    "import os\n",
    "\n",
    "temp_dir = \"./static\"\n",
    "\n",
    "if not os.path.exists(temp_dir) :\n",
    "    os.mkdir(temp_dir)"
   ]
  },
  {
   "cell_type": "markdown",
   "metadata": {},
   "source": [
    "- Jinja Template\n",
    "    - HTML 문서에 파이썬 코드를 삽입해서 실행하게 하는 도구\n",
    "    - {{ 파이썬 코드 }}, {파이썬 변수선언}\n",
    "    \n",
    "- JSP : HTML 문서에 자바 코드를 삽입해서 실행하게 하는 도구\n",
    "    - <% 파이썬 코드 %>, <%= 자바 변수 선언 %>\n",
    "- PHP : HTML 문서에 C언어 코드를 삽입해서 실행하게 하는 도구"
   ]
  },
  {
   "cell_type": "code",
   "execution_count": 87,
   "metadata": {},
   "outputs": [
    {
     "name": "stdout",
     "output_type": "stream",
     "text": [
      "Overwriting ./templates/test2.html\n"
     ]
    }
   ],
   "source": [
    "%%writefile ./templates/test2.html\n",
    "<html>\n",
    "<body>\n",
    "{% set a = 'BANG' %}\n",
    "\n",
    "<h1>{{ a }}</h1>\n",
    "\n",
    "</body>\n",
    "</html>"
   ]
  },
  {
   "cell_type": "code",
   "execution_count": 139,
   "metadata": {
    "colab": {
     "base_uri": "https://localhost:8080/"
    },
    "executionInfo": {
     "elapsed": 457,
     "status": "ok",
     "timestamp": 1694707546827,
     "user": {
      "displayName": "강성관",
      "userId": "00571094306841577419"
     },
     "user_tz": -540
    },
    "id": "VVhyTC_cVGjV",
    "outputId": "84d3e42f-ef91-4c16-cd5f-b17aa9e7973a"
   },
   "outputs": [
    {
     "name": "stdout",
     "output_type": "stream",
     "text": [
      "Overwriting ./templates/imgdisp.html\n"
     ]
    }
   ],
   "source": [
    "%%writefile ./templates/imgdisp.html\n",
    "<html>\n",
    "<body>\n",
    "<img src=\"{{url_for('static', filename='KakaoTalk_20231103_153047202.jpg')}}\" width=\"50%\">\n",
    "</body>\n",
    "</html>"
   ]
  },
  {
   "cell_type": "code",
   "execution_count": 140,
   "metadata": {
    "colab": {
     "base_uri": "https://localhost:8080/",
     "height": 185
    },
    "executionInfo": {
     "elapsed": 9732,
     "status": "ok",
     "timestamp": 1694707672933,
     "user": {
      "displayName": "강성관",
      "userId": "00571094306841577419"
     },
     "user_tz": -540
    },
    "id": "sS2lxNtvVGjV",
    "outputId": "e73433e2-db41-4527-99ac-9b9dcc221e5e"
   },
   "outputs": [
    {
     "name": "stdout",
     "output_type": "stream",
     "text": [
      " * Serving Flask app '__main__'\n",
      " * Debug mode: off\n"
     ]
    },
    {
     "name": "stderr",
     "output_type": "stream",
     "text": [
      "WARNING: This is a development server. Do not use it in a production deployment. Use a production WSGI server instead.\n",
      " * Running on http://211.48.228.19:9007\n",
      "Press CTRL+C to quit\n",
      "211.48.228.19 - - [03/Nov/2023 17:06:50] \"GET / HTTP/1.1\" 200 -\n",
      "211.48.228.19 - - [03/Nov/2023 17:06:55] \"GET /imgdisp HTTP/1.1\" 200 -\n",
      "211.48.228.19 - - [03/Nov/2023 17:06:55] \"GET /static/KakaoTalk_20231103_153047202.jpg HTTP/1.1\" 200 -\n"
     ]
    }
   ],
   "source": [
    "from flask import Flask, render_template\n",
    "app = Flask(__name__)\n",
    "\n",
    "@app.route(\"/\")\n",
    "\n",
    "def index() :\n",
    "    return render_template(\"hello.html\")\n",
    "\n",
    "@app.route(\"/imgdisp\")\n",
    "def imgdisp() :\n",
    "    return render_template(\"imgdisp.html\")\n",
    "\n",
    "if __name__ ==\"__main__\" :\n",
    "    app.run(host=\"211.48.228.19\", port=9007)"
   ]
  },
  {
   "cell_type": "markdown",
   "metadata": {
    "id": "DYKNPuzMVGjW"
   },
   "source": [
    "# 데이터 스트리밍 구현\n",
    "\n",
    "## 구현 방법"
   ]
  },
  {
   "cell_type": "markdown",
   "metadata": {
    "id": "h8wsF0KLVGjW"
   },
   "source": [
    "- yield() 함수 배우기\n",
    "\n",
    "  \n",
    "  <img src=\"https://arome1004.cafe24.com/images/opencv/lecture_image/04_yield.png\" width=70%>  "
   ]
  },
  {
   "cell_type": "code",
   "execution_count": null,
   "metadata": {
    "colab": {
     "base_uri": "https://localhost:8080/"
    },
    "executionInfo": {
     "elapsed": 3350,
     "status": "ok",
     "timestamp": 1694707717199,
     "user": {
      "displayName": "강성관",
      "userId": "00571094306841577419"
     },
     "user_tz": -540
    },
    "id": "KhZjMMt8VGjW",
    "outputId": "7508aa06-7aa8-4fe7-9044-21fe7c04f934"
   },
   "outputs": [
    {
     "name": "stdout",
     "output_type": "stream",
     "text": [
      "A\n",
      "B\n",
      "C\n"
     ]
    }
   ],
   "source": [
    "#실습"
   ]
  },
  {
   "cell_type": "code",
   "execution_count": null,
   "metadata": {
    "colab": {
     "base_uri": "https://localhost:8080/"
    },
    "executionInfo": {
     "elapsed": 3119,
     "status": "ok",
     "timestamp": 1694707723087,
     "user": {
      "displayName": "강성관",
      "userId": "00571094306841577419"
     },
     "user_tz": -540
    },
    "id": "i_L1tuGeVGjX",
    "outputId": "0ac17a35-da86-4bd7-acfe-bd6b8e43242d"
   },
   "outputs": [
    {
     "name": "stdout",
     "output_type": "stream",
     "text": [
      "A\n",
      "B\n",
      "C\n"
     ]
    }
   ],
   "source": [
    "#실습"
   ]
  },
  {
   "cell_type": "markdown",
   "metadata": {
    "id": "iEmDj_XGw8Yy"
   },
   "source": [
    "- <font color=red>Response(stream_with_context(test()))</font>\n",
    "  - 텍스트 스트리밍 함수 test()를 실행\n",
    "  \n",
    "  <img src=\"https://arome1004.cafe24.com/images/opencv/lecture_image/04_flask05.png\" width=50%>  "
   ]
  },
  {
   "cell_type": "code",
   "execution_count": null,
   "metadata": {
    "id": "6N8iSSnXVGjW"
   },
   "outputs": [],
   "source": [
    "#실습"
   ]
  },
  {
   "cell_type": "code",
   "execution_count": null,
   "metadata": {
    "colab": {
     "base_uri": "https://localhost:8080/",
     "height": 167
    },
    "executionInfo": {
     "elapsed": 10559,
     "status": "ok",
     "timestamp": 1694707701772,
     "user": {
      "displayName": "강성관",
      "userId": "00571094306841577419"
     },
     "user_tz": -540
    },
    "id": "DPbAom9wVGjW",
    "outputId": "9fe2c8e9-e2e0-45e7-c7ed-00315dabb5d2"
   },
   "outputs": [
    {
     "name": "stdout",
     "output_type": "stream",
     "text": [
      " * Serving Flask app '__main__'\n",
      " * Debug mode: off\n"
     ]
    },
    {
     "name": "stderr",
     "output_type": "stream",
     "text": [
      "WARNING: This is a development server. Do not use it in a production deployment. Use a production WSGI server instead.\n",
      " * Running on http://127.0.0.1:5007\n",
      "Press CTRL+C to quit\n",
      "127.0.0.1 - - [29/Oct/2023 21:43:19] \"GET / HTTP/1.1\" 200 -\n",
      "127.0.0.1 - - [29/Oct/2023 21:43:21] \"GET /favicon.ico HTTP/1.1\" 404 -\n"
     ]
    }
   ],
   "source": [
    "#실습"
   ]
  },
  {
   "cell_type": "markdown",
   "metadata": {
    "id": "U7ys9JL-w8Yy"
   },
   "source": [
    "# 로그인 페이지 만들기"
   ]
  },
  {
   "cell_type": "markdown",
   "metadata": {
    "id": "lSsaim4pw8Yy"
   },
   "source": [
    "- 테이블 생성하기"
   ]
  },
  {
   "cell_type": "code",
   "execution_count": 102,
   "metadata": {
    "id": "kz_n0xxDw8Yy"
   },
   "outputs": [
    {
     "name": "stdout",
     "output_type": "stream",
     "text": [
      "접속 성공\n"
     ]
    }
   ],
   "source": [
    "import cx_Oracle\n",
    "\n",
    "un = \"test_user_kang\"\n",
    "pw = \"test_user_kang\"\n",
    "dsn = \"project-db-campus.smhrd.com:1524/xe\"\n",
    "\n",
    "try :\n",
    "    conn = cx_Oracle.connect(un, pw, dsn)\n",
    "    print(\"접속 성공\")\n",
    "    \n",
    "except cx_Oracle.DatabaseError as e :\n",
    "    print(e)"
   ]
  },
  {
   "cell_type": "code",
   "execution_count": null,
   "metadata": {},
   "outputs": [],
   "source": [
    "cur = conn.cursor()\n",
    "\n",
    "query = \"\"\"create table admin_bang_tbl (\n",
    "id varchar2(20) primary key,\n",
    "pw varchar2(20) not null,\n",
    "name varchar(20)not null)\"\"\"\n",
    "\n",
    "try :\n",
    "    cur.execute(query)\n",
    "    conn.commit()\n",
    "    print(\"테이블 생성 성공\")\n",
    "    \n",
    "except cx_Oracle.DatabaseError as e : \n",
    "    print(e)"
   ]
  },
  {
   "cell_type": "code",
   "execution_count": null,
   "metadata": {},
   "outputs": [],
   "source": [
    "# id, pw 저장\n",
    "import DB_Control as dc\n",
    "\n",
    "input_data = {\"id\":\"bang\", \"pw\":\"12345\", \"name\":\"hyuk\"}\n",
    "\n",
    "dc.insertData(conn, cur, \"admin_bang_tbl\", input_data)\n",
    "\n",
    "\n"
   ]
  },
  {
   "cell_type": "code",
   "execution_count": null,
   "metadata": {
    "id": "6exUVouWw8Yy"
   },
   "outputs": [],
   "source": [
    "#실습"
   ]
  },
  {
   "cell_type": "markdown",
   "metadata": {
    "id": "0hCbQJiyw8Yy"
   },
   "source": [
    "- 로그인 페이지 만들기"
   ]
  },
  {
   "cell_type": "code",
   "execution_count": 2,
   "metadata": {
    "id": "kksqi7GLw8Yz",
    "outputId": "2ce2dc49-5d42-4002-db08-8fcb9fb90e2a"
   },
   "outputs": [
    {
     "name": "stdout",
     "output_type": "stream",
     "text": [
      "Overwriting ./templates/index.html\n"
     ]
    }
   ],
   "source": [
    "%%writefile ./templates/index.html\n",
    "<html>\n",
    "<head>\n",
    "<script>\n",
    "function main() {\n",
    "    document.login.action = \"/main\"\n",
    "}\n",
    "function member() {\n",
    "    document.login.action = \"/member\"\n",
    "}\n",
    "</script>\n",
    "</head>\n",
    "<body>\n",
    "<center>\n",
    "<form method=\"get\" name=\"login\">\n",
    "<table>\n",
    "<tr><td>아이디<td><input type=\"text\" name=\"id\"></tr>\n",
    "<tr><td>패스워드<td><input type =\"text\" name=\"pw\"></tr>\n",
    "<tr align=center><td colspan=2>\n",
    "<input type=\"submit\" value=\"로그인\" onclick=\"main()\"/>\n",
    "<input type=\"submit\" value=\"회원가입\" onclick=\"member()\" /></tr>\n",
    "</table>\n",
    "</form>\n",
    "</center>\n",
    "</body>\n",
    "</html>"
   ]
  },
  {
   "cell_type": "code",
   "execution_count": 152,
   "metadata": {
    "id": "jdNqNYDMw8Yz",
    "outputId": "111195ba-8511-46c6-e7cf-a8717fa53e74"
   },
   "outputs": [
    {
     "name": "stdout",
     "output_type": "stream",
     "text": [
      " * Serving Flask app '__main__'\n",
      " * Debug mode: off\n"
     ]
    },
    {
     "name": "stderr",
     "output_type": "stream",
     "text": [
      "WARNING: This is a development server. Do not use it in a production deployment. Use a production WSGI server instead.\n",
      " * Running on http://211.48.228.19:9007\n",
      "Press CTRL+C to quit\n",
      "211.48.228.19 - - [03/Nov/2023 17:21:36] \"GET / HTTP/1.1\" 200 -\n",
      "211.48.228.19 - - [03/Nov/2023 17:21:39] \"GET /main?id=123&pw=1234 HTTP/1.1\" 200 -\n"
     ]
    }
   ],
   "source": [
    "from flask import Flask, render_template\n",
    "app = Flask(__name__)\n",
    "\n",
    "\n",
    "@app.route(\"/\")\n",
    "def index() :\n",
    "    return render_template(\"index.html\")\n",
    "\n",
    "@app.route(\"/member\")\n",
    "def member() :\n",
    "    return render_template(\"member.html\")\n",
    "\n",
    "@app.route(\"/main\")\n",
    "def main() :\n",
    "    return render_template(\"main.html\")\n",
    "\n",
    "if __name__ ==\"__main__\" :\n",
    "    app.run(host=\"211.48.228.19\", port=9007)"
   ]
  },
  {
   "cell_type": "markdown",
   "metadata": {
    "id": "9puD5rnsw8Yz"
   },
   "source": [
    "- 회원가입 페이지 만들기"
   ]
  },
  {
   "cell_type": "code",
   "execution_count": 124,
   "metadata": {
    "id": "0GkDK2J8w8Yz",
    "outputId": "fad610e8-31b1-4a74-8bb4-6675dbdf5eb3"
   },
   "outputs": [
    {
     "name": "stdout",
     "output_type": "stream",
     "text": [
      "Writing ./templates/member.html\n"
     ]
    }
   ],
   "source": [
    "%%writefile ./templates/member.html\n",
    "<html>\n",
    "<body>\n",
    "<center>\n",
    "<form method=\"post\" action=\"member_save\">\n",
    "<table>\n",
    "<tr><td>아이디<td><input type=\"text\" name=\"id\"></tr>\n",
    "<tr><td>패스워드<td><input type=\"text\" name=\"pw\"></tr>\n",
    "<tr><td>이름<td><input type=\"text\" name=\"name\"></tr>\n",
    "<tr align=center><td colspan=2>\n",
    "<input type=\"submit\" value=\"회원가입\" name=\"확인\" /></tr>\n",
    "</table>\n",
    "</form>\n",
    "</center>\n",
    "</body>\n",
    "</html>"
   ]
  },
  {
   "cell_type": "code",
   "execution_count": null,
   "metadata": {
    "id": "2zU7imLjw8Yz"
   },
   "outputs": [],
   "source": [
    "#실습"
   ]
  },
  {
   "cell_type": "code",
   "execution_count": null,
   "metadata": {
    "id": "K0ju8i99w8Y0"
   },
   "outputs": [],
   "source": [
    "#실습"
   ]
  },
  {
   "cell_type": "markdown",
   "metadata": {
    "id": "afbj7AtDw8Y0"
   },
   "source": [
    "- 로그인 성공 (메인) 페이지 만들기"
   ]
  },
  {
   "cell_type": "code",
   "execution_count": 157,
   "metadata": {
    "id": "3btDy-ugw8Y0",
    "outputId": "7a936d62-a43e-4d0c-b30b-8ed8ed286976"
   },
   "outputs": [
    {
     "name": "stdout",
     "output_type": "stream",
     "text": [
      "Overwriting ./templates/main.html\n"
     ]
    }
   ],
   "source": [
    "%%writefile ./templates/main.html\n",
    "<html>\n",
    "<body>\n",
    "<center>\n",
    "<h1><font color=red><b>{{ name }}</b></font>님이 접속하였습니다 ^^</h1>\n",
    "</center>\n",
    "</body>\n",
    "</html>"
   ]
  },
  {
   "cell_type": "code",
   "execution_count": 2,
   "metadata": {
    "id": "OI2-Hpftw8Y1",
    "outputId": "cf71e0e0-ac7a-4a62-9af7-3ff113348b2e"
   },
   "outputs": [
    {
     "name": "stdout",
     "output_type": "stream",
     "text": [
      " * Serving Flask app '__main__'\n",
      " * Debug mode: off\n"
     ]
    },
    {
     "name": "stderr",
     "output_type": "stream",
     "text": [
      "WARNING: This is a development server. Do not use it in a production deployment. Use a production WSGI server instead.\n",
      " * Running on http://211.48.228.19:9012\n",
      "Press CTRL+C to quit\n",
      "211.48.228.19 - - [03/Nov/2023 17:51:13] \"GET / HTTP/1.1\" 200 -\n",
      "211.48.228.19 - - [03/Nov/2023 17:51:17] \"GET /main?id=bang&pw=12345 HTTP/1.1\" 405 -\n"
     ]
    }
   ],
   "source": [
    "from flask import Flask, render_template, request\n",
    "import DB_Control as dc\n",
    "\n",
    "app = Flask(__name__)\n",
    "\n",
    "@app.route(\"/\")\n",
    "def index() :\n",
    "    return render_template(\"index.html\")\n",
    "\n",
    "# 로그인\n",
    "# methods=[\"post\"] : 클라이언트에서 post 방식으로 데이터를 수신\n",
    "# get : URL 주소에 실어서 보내는 방식 - 작고 보안이 필요없는 데이터에 사용\n",
    "# post : URL과는 따로 데이터를 보내는 방식 - 크거나 보안이 필요한 데이터에 사용\n",
    "@app.route(\"/main\", methods=[\"post\"])\n",
    "def main() :\n",
    "    # 클라이언트에서 보낸 값을 수신\n",
    "    id = request.form[\"id\"]\n",
    "    pw = request.form[\"pw\"]\n",
    "   \n",
    "    # DB에 해당 id와 pw가 있는지 검색하고 있다면 사용자 이름을 가져온다\n",
    "    username = \"test_user_kang\"\n",
    "    password = \"test_user_kang\"\n",
    "    dsn = \"project-db-campus.smhrd.com:1524/xe\"\n",
    "\n",
    "    conn, cur = dc.db_conn(username, password, dsn)\n",
    "    \n",
    "    # 변경된 결과 확인\n",
    "\n",
    "    name = dc.searchData2(conn, cur, 'admin_bang_tbl', 'id', id, 'pw',pw)\n",
    "           \n",
    "    if name == None :   # id, pw가 틀리다면\n",
    "        return render_template(\"index.html\")\n",
    "    else :\n",
    "        return render_template(\"main.html\", name=name[0])\n",
    "    \n",
    "    dc.db_disconn(conn, cur)\n",
    "\n",
    "    \n",
    "# 회원 가입    \n",
    "@app.route(\"/member\")\n",
    "def member() :\n",
    "    pass\n",
    "\n",
    "if __name__ == \"__main__\" :\n",
    "\n",
    "    app.run(host=\"211.48.228.19\", port=9012)"
   ]
  },
  {
   "cell_type": "code",
   "execution_count": null,
   "metadata": {},
   "outputs": [],
   "source": []
  }
 ],
 "metadata": {
  "colab": {
   "provenance": []
  },
  "hide_input": false,
  "kernelspec": {
   "display_name": "Python 3 (ipykernel)",
   "language": "python",
   "name": "python3"
  },
  "language_info": {
   "codemirror_mode": {
    "name": "ipython",
    "version": 3
   },
   "file_extension": ".py",
   "mimetype": "text/x-python",
   "name": "python",
   "nbconvert_exporter": "python",
   "pygments_lexer": "ipython3",
   "version": "3.11.5"
  },
  "toc": {
   "base_numbering": 1,
   "nav_menu": {},
   "number_sections": true,
   "sideBar": true,
   "skip_h1_title": false,
   "title_cell": "Table of Contents",
   "title_sidebar": "Contents",
   "toc_cell": false,
   "toc_position": {
    "height": "calc(100% - 180px)",
    "left": "10px",
    "top": "150px",
    "width": "165px"
   },
   "toc_section_display": true,
   "toc_window_display": true
  }
 },
 "nbformat": 4,
 "nbformat_minor": 1
}
