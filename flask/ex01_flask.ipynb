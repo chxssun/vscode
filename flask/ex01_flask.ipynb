{
 "cells": [
  {
   "cell_type": "markdown",
   "metadata": {},
   "source": [
    "### Flask\n",
    "- python 언어를 활용하여 웹을 구축할 수 있도록 해놓은 마이크로 웹 프레임 워크"
   ]
  },
  {
   "cell_type": "code",
   "execution_count": 16,
   "metadata": {},
   "outputs": [
    {
     "name": "stdout",
     "output_type": "stream",
     "text": [
      "Requirement already satisfied: Flask in c:\\users\\chxss\\anaconda3\\envs\\flask\\lib\\site-packages (3.0.3)\n",
      "Requirement already satisfied: Werkzeug>=3.0.0 in c:\\users\\chxss\\anaconda3\\envs\\flask\\lib\\site-packages (from Flask) (3.0.3)\n",
      "Requirement already satisfied: Jinja2>=3.1.2 in c:\\users\\chxss\\anaconda3\\envs\\flask\\lib\\site-packages (from Flask) (3.1.4)\n",
      "Requirement already satisfied: itsdangerous>=2.1.2 in c:\\users\\chxss\\anaconda3\\envs\\flask\\lib\\site-packages (from Flask) (2.2.0)\n",
      "Requirement already satisfied: click>=8.1.3 in c:\\users\\chxss\\anaconda3\\envs\\flask\\lib\\site-packages (from Flask) (8.1.7)\n",
      "Requirement already satisfied: blinker>=1.6.2 in c:\\users\\chxss\\anaconda3\\envs\\flask\\lib\\site-packages (from Flask) (1.8.2)\n",
      "Requirement already satisfied: importlib-metadata>=3.6.0 in c:\\users\\chxss\\anaconda3\\envs\\flask\\lib\\site-packages (from Flask) (8.0.0)\n",
      "Requirement already satisfied: colorama in c:\\users\\chxss\\anaconda3\\envs\\flask\\lib\\site-packages (from click>=8.1.3->Flask) (0.4.6)\n",
      "Requirement already satisfied: zipp>=0.5 in c:\\users\\chxss\\anaconda3\\envs\\flask\\lib\\site-packages (from importlib-metadata>=3.6.0->Flask) (3.19.2)\n",
      "Requirement already satisfied: MarkupSafe>=2.0 in c:\\users\\chxss\\anaconda3\\envs\\flask\\lib\\site-packages (from Jinja2>=3.1.2->Flask) (2.1.5)\n"
     ]
    }
   ],
   "source": [
    "!pip install Flask"
   ]
  },
  {
   "cell_type": "markdown",
   "metadata": {},
   "source": [
    "##### Flask 기본구조\n",
    "app = Flask(__name__) -> 초기화  \n",
    "@app.route(\"/\") -> 라우팅 -> 해당페이지로 가는 경로설정  \n",
    "app.run(host, port)"
   ]
  },
  {
   "cell_type": "code",
   "execution_count": 17,
   "metadata": {},
   "outputs": [
    {
     "name": "stdout",
     "output_type": "stream",
     "text": [
      " * Serving Flask app '__main__'\n",
      " * Debug mode: off\n"
     ]
    },
    {
     "name": "stderr",
     "output_type": "stream",
     "text": [
      "WARNING: This is a development server. Do not use it in a production deployment. Use a production WSGI server instead.\n",
      " * Running on http://192.168.20.145:5000\n",
      "Press CTRL+C to quit\n"
     ]
    }
   ],
   "source": [
    "from flask import Flask\n",
    "# 초기화\n",
    "app = Flask(__name__)\n",
    "# 라우팅\n",
    "@app.route(\"/\") #웹 서버의 root\n",
    "# 위의 해당되는 경로에서 실행될 함수 정의\n",
    "def hello():\n",
    "    return \"Hello, SSun\"\n",
    "# 웹서버 구동\n",
    "if __name__ == \"__main__\": # 해당 파일을 직접적으로 실행했을때만 진행\n",
    "    app.run(port = 5000, host = \"192.168.20.145\")"
   ]
  },
  {
   "cell_type": "markdown",
   "metadata": {},
   "source": [
    "### 새로운 라우터 생성\n",
    "- 추가적인 경로 설정하기"
   ]
  },
  {
   "cell_type": "code",
   "execution_count": null,
   "metadata": {},
   "outputs": [
    {
     "name": "stdout",
     "output_type": "stream",
     "text": [
      " * Serving Flask app '__main__'\n",
      " * Debug mode: off\n"
     ]
    },
    {
     "name": "stderr",
     "output_type": "stream",
     "text": [
      "WARNING: This is a development server. Do not use it in a production deployment. Use a production WSGI server instead.\n",
      " * Running on http://192.168.20.145:5000\n",
      "Press CTRL+C to quit\n"
     ]
    }
   ],
   "source": [
    "from flask import Flask\n",
    "# 초기화\n",
    "app = Flask(__name__)\n",
    "# 라우팅\n",
    "@app.route(\"/\") #웹 서버의 root\n",
    "# 위의 해당되는 경로에서 실행될 함수 정의\n",
    "def hello():\n",
    "    return \"Hello, SSun\"\n",
    "\n",
    "# 새로운 경로 설정\n",
    "@app.route(\"/route1\")\n",
    "def new_page():\n",
    "    return \"1번 라우터에 연결하였습니다\"\n",
    "\n",
    "# 웹서버 구동\n",
    "if __name__ == \"__main__\": # 해당 파일을 직접적으로 실행했을때만 진행\n",
    "    app.run(port = 5000, host = \"192.168.20.145\")"
   ]
  },
  {
   "cell_type": "code",
   "execution_count": null,
   "metadata": {},
   "outputs": [
    {
     "name": "stdout",
     "output_type": "stream",
     "text": [
      " * Serving Flask app '__main__'\n",
      " * Debug mode: off\n"
     ]
    },
    {
     "name": "stderr",
     "output_type": "stream",
     "text": [
      "WARNING: This is a development server. Do not use it in a production deployment. Use a production WSGI server instead.\n",
      " * Running on http://192.168.20.145:5000\n",
      "Press CTRL+C to quit\n",
      "192.168.20.145 - - [09/Jul/2024 10:11:20] \"GET / HTTP/1.1\" 200 -\n",
      "192.168.20.145 - - [09/Jul/2024 10:11:26] \"GET /hello HTTP/1.1\" 200 -\n",
      "192.168.20.145 - - [09/Jul/2024 10:11:32] \"GET /goodbye HTTP/1.1\" 200 -\n"
     ]
    }
   ],
   "source": [
    "from flask import Flask\n",
    "# 초기화\n",
    "app = Flask(__name__)\n",
    "# 라우팅\n",
    "@app.route(\"/\") #웹 서버의 root\n",
    "# 위의 해당되는 경로에서 실행될 함수 정의\n",
    "def home():\n",
    "    return \"안녕~여기는 홈페이지 \"\n",
    "\n",
    "# 새로운 경로 설정\n",
    "@app.route(\"/hello\")\n",
    "def hello():\n",
    "    return \"안녕하세요오\"\n",
    "@app.route(\"/goodbye\")\n",
    "def goodbye():\n",
    "    return \"안녕히가세요오\"\n",
    "\n",
    "# 웹서버 구동\n",
    "if __name__ == \"__main__\": # 해당 파일을 직접적으로 실행했을때만 진행\n",
    "    app.run(port = 5000, host = \"192.168.20.145\")"
   ]
  },
  {
   "cell_type": "markdown",
   "metadata": {},
   "source": [
    "##### url을 변수로 사용"
   ]
  },
  {
   "cell_type": "code",
   "execution_count": null,
   "metadata": {},
   "outputs": [
    {
     "name": "stdout",
     "output_type": "stream",
     "text": [
      " * Serving Flask app '__main__'\n",
      " * Debug mode: off\n"
     ]
    },
    {
     "name": "stderr",
     "output_type": "stream",
     "text": [
      "WARNING: This is a development server. Do not use it in a production deployment. Use a production WSGI server instead.\n",
      " * Running on http://192.168.20.145:5000\n",
      "Press CTRL+C to quit\n",
      "192.168.20.145 - - [09/Jul/2024 10:17:52] \"GET /hello<ssun> HTTP/1.1\" 404 -\n",
      "192.168.20.145 - - [09/Jul/2024 10:18:03] \"GET /hello/ssun HTTP/1.1\" 200 -\n"
     ]
    }
   ],
   "source": [
    "from flask import Flask\n",
    "# 초기화\n",
    "app = Flask(__name__)\n",
    "# 라우팅\n",
    "@app.route(\"/\") #웹 서버의 root\n",
    "# 위의 해당되는 경로에서 실행될 함수 정의\n",
    "def home():\n",
    "    return \"안녕~여기는 홈페이지 \"\n",
    "\n",
    "# 새로운 경로 설정\n",
    "@app.route(\"/hello/<value>\")\n",
    "def hello(value):\n",
    "    return \"안녕하세요오\" + value\n",
    "\n",
    "@app.route(\"/goodbye\")\n",
    "def goodbye():\n",
    "    return \"안녕히가세요오\"\n",
    "\n",
    "# 웹서버 구동\n",
    "if __name__ == \"__main__\": # 해당 파일을 직접적으로 실행했을때만 진행\n",
    "    app.run(port = 5000, host = \"192.168.20.145\")"
   ]
  },
  {
   "cell_type": "markdown",
   "metadata": {},
   "source": [
    "### html문서 웹페이지에 전송\n",
    "- 렌더링 : 서버에서 데이터를 html코드로 변환하여 웹브라우저가 이를 사용자에게 표시할 수 있게 하는 과정"
   ]
  },
  {
   "cell_type": "code",
   "execution_count": null,
   "metadata": {},
   "outputs": [
    {
     "name": "stdout",
     "output_type": "stream",
     "text": [
      " * Serving Flask app '__main__'\n",
      " * Debug mode: off\n"
     ]
    },
    {
     "name": "stderr",
     "output_type": "stream",
     "text": [
      "WARNING: This is a development server. Do not use it in a production deployment. Use a production WSGI server instead.\n",
      " * Running on http://192.168.20.145:5000\n",
      "Press CTRL+C to quit\n",
      "192.168.20.145 - - [09/Jul/2024 10:28:21] \"GET / HTTP/1.1\" 200 -\n",
      "192.168.20.145 - - [09/Jul/2024 10:28:26] \"GET / HTTP/1.1\" 200 -\n"
     ]
    }
   ],
   "source": [
    "from flask import Flask, render_template\n",
    "# render_template : html 문서를 가져올 수있도록 도와줌\n",
    "app = Flask(__name__) #초기화\n",
    "\n",
    "@app.route(\"/\")\n",
    "def index():\n",
    "    return render_template(\"index.html\")\n",
    "\n",
    "if __name__ == \"__main__\":\n",
    "    app.run(port = 5000, host = \"192.168.20.145\")"
   ]
  },
  {
   "cell_type": "markdown",
   "metadata": {},
   "source": [
    "### GET / POST\n",
    "- GET : url 값을 붙여서 전송\n",
    "    - 장점 : 간단하고 빠름\n",
    "    - 단점 : 보안에 취약하고, 큰 파일 전송 어려움\n",
    "- POST : 데이터를 HTTP요청의 body에 정보를 포함 시켜 전송\n",
    "    - 장점 : 보안 우수\n",
    "    - 단점 : "
   ]
  },
  {
   "cell_type": "code",
   "execution_count": null,
   "metadata": {},
   "outputs": [
    {
     "name": "stdout",
     "output_type": "stream",
     "text": [
      " * Serving Flask app '__main__'\n",
      " * Debug mode: off\n"
     ]
    },
    {
     "name": "stderr",
     "output_type": "stream",
     "text": [
      "WARNING: This is a development server. Do not use it in a production deployment. Use a production WSGI server instead.\n",
      " * Running on http://192.168.20.145:5000\n",
      "Press CTRL+C to quit\n",
      "192.168.20.145 - - [09/Jul/2024 10:45:30] \"GET / HTTP/1.1\" 200 -\n"
     ]
    }
   ],
   "source": [
    "from flask import Flask, render_template\n",
    "# render_template : html 문서를 가져올 수있도록 도와줌\n",
    "app = Flask(__name__) #초기화\n",
    "\n",
    "@app.route(\"/\")\n",
    "def index():\n",
    "    return render_template(\"login.html\")\n",
    "\n",
    "if __name__ == \"__main__\":\n",
    "    app.run(port = 5000, host = \"192.168.20.145\")"
   ]
  },
  {
   "cell_type": "code",
   "execution_count": 18,
   "metadata": {},
   "outputs": [
    {
     "name": "stdout",
     "output_type": "stream",
     "text": [
      " * Serving Flask app '__main__'\n",
      " * Debug mode: off\n"
     ]
    },
    {
     "name": "stderr",
     "output_type": "stream",
     "text": [
      "WARNING: This is a development server. Do not use it in a production deployment. Use a production WSGI server instead.\n",
      " * Running on http://192.168.20.145:5000\n",
      "Press CTRL+C to quit\n",
      "192.168.20.145 - - [09/Jul/2024 11:15:02] \"GET / HTTP/1.1\" 200 -\n",
      "192.168.20.145 - - [09/Jul/2024 11:15:11] \"GET /login HTTP/1.1\" 200 -\n",
      "192.168.20.145 - - [09/Jul/2024 11:15:22] \"GET /login_ok?id=ssun&pw=12345 HTTP/1.1\" 200 -\n"
     ]
    }
   ],
   "source": [
    "# login 페이지에서 입력받은 데이터 받기(get)\n",
    "from flask import Flask, render_template, request\n",
    "# render_template : html 문서를 가져올 수있도록 도와줌\n",
    "app = Flask(__name__) #초기화\n",
    "\n",
    "@app.route(\"/\")\n",
    "def index():\n",
    "    return render_template(\"index.html\")\n",
    "\n",
    "@app.route(\"/login\")\n",
    "def login():\n",
    "    return render_template(\"login.html\")\n",
    "\n",
    "# get 방식으로 넘어온 값을 받기\n",
    "@app.route(\"/login_ok\", methods=[\"GET\"])\n",
    "def login_ok():\n",
    "    id = request.args.get(\"id\")\n",
    "    pw = request.args.get(\"pw\")\n",
    "    return f\"ID: {id}, PW: {pw} 입니다\"\n",
    "    \n",
    "if __name__ == \"__main__\":\n",
    "    app.run(port = 5000, host = \"192.168.20.145\")"
   ]
  },
  {
   "cell_type": "code",
   "execution_count": 19,
   "metadata": {},
   "outputs": [
    {
     "name": "stdout",
     "output_type": "stream",
     "text": [
      " * Serving Flask app '__main__'\n",
      " * Debug mode: off\n"
     ]
    },
    {
     "name": "stderr",
     "output_type": "stream",
     "text": [
      "WARNING: This is a development server. Do not use it in a production deployment. Use a production WSGI server instead.\n",
      " * Running on http://192.168.20.145:5000\n",
      "Press CTRL+C to quit\n",
      "192.168.20.145 - - [09/Jul/2024 11:21:46] \"GET / HTTP/1.1\" 200 -\n",
      "192.168.20.145 - - [09/Jul/2024 11:21:49] \"GET /login HTTP/1.1\" 200 -\n",
      "192.168.20.145 - - [09/Jul/2024 11:21:56] \"POST /login_ok HTTP/1.1\" 200 -\n"
     ]
    }
   ],
   "source": [
    "# login 페이지에서 입력받은 데이터 받기(post)\n",
    "from flask import Flask, render_template, request\n",
    "# render_template : html 문서를 가져올 수있도록 도와줌\n",
    "app = Flask(__name__) #초기화\n",
    "\n",
    "@app.route(\"/\")\n",
    "def index():\n",
    "    return render_template(\"index.html\")\n",
    "\n",
    "@app.route(\"/login\")\n",
    "def login():\n",
    "    return render_template(\"login_post.html\")\n",
    "\n",
    "# POST 방식으로 넘어온 값을 받기\n",
    "@app.route(\"/login_ok\", methods=[\"POST\"])\n",
    "def login_ok():\n",
    "    id = request.form[\"id\"]\n",
    "    pw = request.form[\"pw\"]\n",
    "    return f\"ID: {id}, PW: {pw} 입니다\"\n",
    "    \n",
    "if __name__ == \"__main__\":\n",
    "    app.run(port = 5000, host = \"192.168.20.145\")"
   ]
  },
  {
   "cell_type": "code",
   "execution_count": null,
   "metadata": {},
   "outputs": [],
   "source": []
  }
 ],
 "metadata": {
  "kernelspec": {
   "display_name": "flask",
   "language": "python",
   "name": "python3"
  },
  "language_info": {
   "codemirror_mode": {
    "name": "ipython",
    "version": 3
   },
   "file_extension": ".py",
   "mimetype": "text/x-python",
   "name": "python",
   "nbconvert_exporter": "python",
   "pygments_lexer": "ipython3",
   "version": "3.9.19"
  }
 },
 "nbformat": 4,
 "nbformat_minor": 2
}
